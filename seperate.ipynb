{
 "cells": [
  {
   "cell_type": "code",
   "execution_count": 2,
   "metadata": {},
   "outputs": [],
   "source": [
    "import pandas as pd\n",
    "import shutil"
   ]
  },
  {
   "cell_type": "code",
   "execution_count": null,
   "metadata": {},
   "outputs": [],
   "source": [
    "df= pd.read_csv('./') # <= Dosya"
   ]
  },
  {
   "cell_type": "code",
   "execution_count": null,
   "metadata": {},
   "outputs": [],
   "source": [
    "for i in range(0 , df.shape[0]) :\n",
    "    current_name = df.iloc[i , 2]\n",
    "    split = df.iloc[i , df.columns.get_loc('split')]\n",
    "    src = f\"./label_full/{current_name}.txt\" # <= Label Dosyalar\n",
    "    if split == \"training\" :\n",
    "        location = \"train\"\n",
    "        dst = \"./labels/train\"\n",
    "        shutil.copy2(src = src , dst = dst)\n",
    "    elif split == \"test\" :\n",
    "        location = \"test\"\n",
    "        dst = \"./labels/test\"\n",
    "        shutil.copy2(src = src , dst = dst)\n",
    "\n",
    "\n",
    "\n",
    "\n",
    "\n"
   ]
  },
  {
   "cell_type": "code",
   "execution_count": null,
   "metadata": {},
   "outputs": [],
   "source": []
  }
 ],
 "metadata": {
  "kernelspec": {
   "display_name": "Python 3",
   "language": "python",
   "name": "python3"
  },
  "language_info": {
   "codemirror_mode": {
    "name": "ipython",
    "version": 3
   },
   "file_extension": ".py",
   "mimetype": "text/x-python",
   "name": "python",
   "nbconvert_exporter": "python",
   "pygments_lexer": "ipython3",
   "version": "3.10.8"
  },
  "orig_nbformat": 4
 },
 "nbformat": 4,
 "nbformat_minor": 2
}
